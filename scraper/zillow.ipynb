{
 "cells": [
  {
   "cell_type": "code",
   "execution_count": 1,
   "metadata": {},
   "outputs": [
    {
     "name": "stdout",
     "output_type": "stream",
     "text": [
      "{'address': '1900 Spindrift Dr, La Jolla, CA 92037', 'broker': 'COMPASS', 'price': '$108,000,000', 'beds': '10 bds', 'bathrooms': '17 ba', 'sqft': '12,981 sqft', 'url': 'https://www.zillow.com/homedetails/1900-Spindrift-Dr-La-Jolla-CA-92037/16839110_zpid/'}\n",
      "{'address': '801 La Jolla Rancho Rd, La Jolla, CA 92037', 'broker': 'BERKSHIRE HATHAWAY HOMESERVICES CALIFORNIA PROPERTIES', 'price': '$3,995,000', 'beds': '3 bds', 'bathrooms': '3 ba', 'sqft': '2,890 sqft', 'url': 'https://www.zillow.com/homedetails/801-La-Jolla-Rancho-Rd-La-Jolla-CA-92037/16855358_zpid/'}\n",
      "{'address': '6283 La Jolla Scenic Dr S, La Jolla, CA 92037', 'broker': 'EXP REALTY OF CALIFORNIA, INC.', 'price': '$22,500,000', 'beds': '7 bds', 'bathrooms': '10 ba', 'sqft': '12,842 sqft', 'url': 'https://www.zillow.com/homedetails/6283-La-Jolla-Scenic-Dr-S-La-Jolla-CA-92037/16852003_zpid/'}\n",
      "{'address': '6653 Neptune Pl, La Jolla, CA 92037', 'broker': 'PACASO INC.', 'price': '$1,300,000', 'beds': '4 bds', 'bathrooms': '5 ba', 'sqft': '3,124 sqft', 'url': 'https://www.zillow.com/homedetails/6653-Neptune-Pl-La-Jolla-CA-92037/16850262_zpid/'}\n",
      "{'address': '5740 La Jolla Corona Dr, La Jolla, CA 92037', 'broker': \"PACIFIC SOTHEBY'S INT'L REALTY\", 'price': '$14,750,000', 'beds': '6 bds', 'bathrooms': '8 ba', 'sqft': '8,810 sqft', 'url': 'https://www.zillow.com/homedetails/5740-La-Jolla-Corona-Dr-La-Jolla-CA-92037/16856415_zpid/'}\n",
      "{'address': '6308 Camino De La Costa, La Jolla, CA 92037', 'broker': 'DOUGLAS ELLIMAN OF CALIFORNIA, INC.', 'price': '$35,000,000', 'beds': '9 bds', 'bathrooms': '10 ba', 'sqft': '10,260 sqft', 'url': 'https://www.zillow.com/homedetails/6308-Camino-De-La-Costa-La-Jolla-CA-92037/16850611_zpid/'}\n",
      "{'address': '7135 Olivetas Ave, La Jolla, CA 92037', 'broker': 'BERKSHIRE HATHAWAY HOMESERVICES CALIFORNIA PROPERTIES', 'price': '$4,498,000', 'beds': '5 bds', 'bathrooms': '3 ba', 'sqft': '2,231 sqft', 'url': 'https://www.zillow.com/homedetails/7135-Olivetas-Ave-La-Jolla-CA-92037/16849471_zpid/'}\n",
      "{'address': '322 Forward St, La Jolla, CA 92037', 'broker': 'ABUNDANCE REAL ESTATE', 'price': '$3,500,000', 'beds': '2 bds', 'bathrooms': '2 ba', 'sqft': '1,500 sqft', 'url': 'https://www.zillow.com/homedetails/322-Forward-St-La-Jolla-CA-92037/16855631_zpid/'}\n",
      "{'address': '5366 Calumet Ave, La Jolla, CA 92037', 'broker': 'BERKSHIRE HATHAWAY HOMESERVICE', 'price': '$9,988,000', 'beds': '4 bds', 'bathrooms': '5 ba', 'sqft': '3,999 sqft', 'url': 'https://www.zillow.com/homedetails/5366-Calumet-Ave-La-Jolla-CA-92037/16907441_zpid/'}\n"
     ]
    }
   ],
   "source": [
    "import requests\n",
    "from bs4 import BeautifulSoup\n",
    "import random\n",
    "import csv\n",
    "\n",
    "# with open('proxies.txt', 'r') as f:\n",
    "#    proxies = f.read().splitlines()\n",
    "\n",
    "# proxy = random.choice(proxies)\n",
    "\n",
    "header = {'user-agent': 'Mozilla/5.0 (Windows NT 10.0; Win64; x64) AppleWebKit/537.36 (KHTML, like Gecko) Chrome/129.0.0.0 Safari/537.36',\n",
    "          'referer':'https://www.zillow.com/homes/Missoula,-MT_rb/'}\n",
    "\n",
    "#response = requests.get('https://www.zillow.com/portland-or/', headers=header, proxies={\"http\": proxy})\n",
    "response = requests.get('https://www.zillow.com/la-jolla-san-diego-ca/', headers=header)\n",
    "\n",
    "properties = []\n",
    "\n",
    "if response.status_code == 200:\n",
    "    soup = BeautifulSoup(response.content, \"html.parser\")\n",
    "    search_results = soup.find(id=\"grid-search-results\")\n",
    "    if search_results:  \n",
    "        homecards = search_results.find_all(\"li\")\n",
    "        for card in homecards:\n",
    "            if card.find(\"address\", {\"data-test\": \"property-card-addr\"}):\n",
    "                more_info = card.find(\"div\", class_=\"property-card-data\")\n",
    "                info = more_info.find_all(\"li\")\n",
    "                data = {\n",
    "                    \"address\": card.find(\"address\", {\"data-test\": \"property-card-addr\"}).text.strip(),\n",
    "                    \"broker\": more_info.find(\"div\").text.strip(),\n",
    "                    \"price\": card.find(\"span\", {\"data-test\": \"property-card-price\"}).text.strip(),\n",
    "                    \"beds\": info[0].text.strip(),\n",
    "                    \"bathrooms\": info[1].text.strip(),\n",
    "                    \"sqft\": info[2].text.strip(),\n",
    "                    \"url\": card.find(\"a\", {\"data-test\": \"property-card-link\"})[\"href\"]\n",
    "                }\n",
    "                properties.append(data)\n",
    "                print(data)\n",
    "\n",
    "csv_header = [\"Address\", \"Broker\", \"Price\", \"Beds\", \"Bathrooms\", \"Square Footage\", \"URL\"]\n",
    "\n",
    "with open(\"zillow.csv\", \"w\", newline='', encoding=\"utf-8\") as f:\n",
    "    writer = csv.DictWriter(f, fieldnames=csv_header)\n",
    "    writer.writeheader()\n",
    "    for property in properties:\n",
    "        writer.writerow({\n",
    "            \"Address\": property[\"address\"],\n",
    "            \"Broker\": property[\"broker\"],\n",
    "            \"Price\": property[\"price\"],\n",
    "            \"Beds\": property[\"beds\"],\n",
    "            \"Bathrooms\": property[\"bathrooms\"],\n",
    "            \"Square Footage\": property[\"sqft\"],\n",
    "            \"URL\": property[\"url\"]\n",
    "        })"
   ]
  }
 ],
 "metadata": {
  "kernelspec": {
   "display_name": "Python 3",
   "language": "python",
   "name": "python3"
  },
  "language_info": {
   "codemirror_mode": {
    "name": "ipython",
    "version": 3
   },
   "file_extension": ".py",
   "mimetype": "text/x-python",
   "name": "python",
   "nbconvert_exporter": "python",
   "pygments_lexer": "ipython3",
   "version": "3.12.7"
  }
 },
 "nbformat": 4,
 "nbformat_minor": 2
}
